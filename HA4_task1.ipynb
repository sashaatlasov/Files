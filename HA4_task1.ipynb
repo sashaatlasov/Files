{
 "cells": [
  {
   "cell_type": "code",
   "execution_count": 1,
   "id": "36ea0b55-49cb-4123-8b6c-186978a1153e",
   "metadata": {},
   "outputs": [],
   "source": [
    "import pandas as pd\n",
    "import numpy as np"
   ]
  },
  {
   "cell_type": "code",
   "execution_count": 2,
   "id": "92efa233-b917-47df-8de1-62462c329569",
   "metadata": {},
   "outputs": [
    {
     "data": {
      "text/html": [
       "<div>\n",
       "<style scoped>\n",
       "    .dataframe tbody tr th:only-of-type {\n",
       "        vertical-align: middle;\n",
       "    }\n",
       "\n",
       "    .dataframe tbody tr th {\n",
       "        vertical-align: top;\n",
       "    }\n",
       "\n",
       "    .dataframe thead th {\n",
       "        text-align: right;\n",
       "    }\n",
       "</style>\n",
       "<table border=\"1\" class=\"dataframe\">\n",
       "  <thead>\n",
       "    <tr style=\"text-align: right;\">\n",
       "      <th></th>\n",
       "      <th>No</th>\n",
       "      <th>System</th>\n",
       "      <th>mount</th>\n",
       "      <th>price</th>\n",
       "      <th>con</th>\n",
       "      <th>snow</th>\n",
       "      <th>ice</th>\n",
       "      <th>dur</th>\n",
       "      <th>Accegrade</th>\n",
       "    </tr>\n",
       "  </thead>\n",
       "  <tbody>\n",
       "    <tr>\n",
       "      <th>0</th>\n",
       "      <td>1</td>\n",
       "      <td>SK</td>\n",
       "      <td>F</td>\n",
       "      <td>206</td>\n",
       "      <td>1.9</td>\n",
       "      <td>1.4</td>\n",
       "      <td>1.8</td>\n",
       "      <td>2.7</td>\n",
       "      <td>F</td>\n",
       "    </tr>\n",
       "    <tr>\n",
       "      <th>1</th>\n",
       "      <td>2</td>\n",
       "      <td>SRK</td>\n",
       "      <td>F or R</td>\n",
       "      <td>520</td>\n",
       "      <td>2.1</td>\n",
       "      <td>0.8</td>\n",
       "      <td>3.8</td>\n",
       "      <td>2.3</td>\n",
       "      <td>F</td>\n",
       "    </tr>\n",
       "    <tr>\n",
       "      <th>2</th>\n",
       "      <td>3</td>\n",
       "      <td>SK</td>\n",
       "      <td>F</td>\n",
       "      <td>160</td>\n",
       "      <td>1.7</td>\n",
       "      <td>1.9</td>\n",
       "      <td>1.6</td>\n",
       "      <td>3.7</td>\n",
       "      <td>F</td>\n",
       "    </tr>\n",
       "    <tr>\n",
       "      <th>3</th>\n",
       "      <td>4</td>\n",
       "      <td>SK</td>\n",
       "      <td>F</td>\n",
       "      <td>213</td>\n",
       "      <td>1.7</td>\n",
       "      <td>2.0</td>\n",
       "      <td>2.4</td>\n",
       "      <td>3.4</td>\n",
       "      <td>F</td>\n",
       "    </tr>\n",
       "    <tr>\n",
       "      <th>4</th>\n",
       "      <td>5</td>\n",
       "      <td>SMS</td>\n",
       "      <td>F or R</td>\n",
       "      <td>598</td>\n",
       "      <td>1.6</td>\n",
       "      <td>2.4</td>\n",
       "      <td>7.0</td>\n",
       "      <td>2.8</td>\n",
       "      <td>F</td>\n",
       "    </tr>\n",
       "  </tbody>\n",
       "</table>\n",
       "</div>"
      ],
      "text/plain": [
       "  No System   mount  price  con  snow  ice  dur Accegrade\n",
       "0  1     SK       F    206  1.9   1.4  1.8  2.7         F\n",
       "1  2    SRK  F or R    520  2.1   0.8  3.8  2.3         F\n",
       "2  3     SK       F    160  1.7   1.9  1.6  3.7         F\n",
       "3  4     SK       F    213  1.7   2.0  2.4  3.4         F\n",
       "4  5    SMS  F or R    598  1.6   2.4  7.0  2.8         F"
      ]
     },
     "execution_count": 2,
     "metadata": {},
     "output_type": "execute_result"
    }
   ],
   "source": [
    "num_cols = ['price','con','snow', 'ice', 'dur']\n",
    "\n",
    "df1 = pd.read_csv('data.csv', header=3)[:17]\n",
    "df1[num_cols] = df1[num_cols].apply(pd.to_numeric)\n",
    "df1.head()"
   ]
  },
  {
   "cell_type": "code",
   "execution_count": 3,
   "id": "9e1c2174-c6cc-403e-a69f-4f37695cb95c",
   "metadata": {},
   "outputs": [],
   "source": [
    "df2 = pd.read_csv('data.csv', header=3)[22:].reset_index(drop=True)\n",
    "df2[num_cols] = df2[num_cols].apply(pd.to_numeric)"
   ]
  },
  {
   "cell_type": "code",
   "execution_count": 4,
   "id": "e100e531-0393-4c5d-8d58-bf5c83e86bc5",
   "metadata": {},
   "outputs": [],
   "source": [
    "def split_last_3(data):\n",
    "    x, y = data.drop(columns=['Accegrade', 'No']), data['Accegrade']\n",
    "    x_train, x_test, y_train, y_test = x[:-3], x[-3:], y[:-3], y[-3:] \n",
    "    return x_train, x_test, y_train, y_test"
   ]
  },
  {
   "cell_type": "code",
   "execution_count": 5,
   "id": "e56596c4-41b2-458b-99f6-fb92e6654d57",
   "metadata": {},
   "outputs": [],
   "source": [
    "def calc_sim(test, train):\n",
    "    sim = []\n",
    "    for i, j in enumerate(test):\n",
    "        if i < 2:\n",
    "            if j == train[i]:\n",
    "                sim.append(j)\n",
    "            else:\n",
    "                sim.append('*')\n",
    "        else:\n",
    "            sim.append((min(j, train[i]), max(j, train[i])))\n",
    "    return sim\n",
    "\n",
    "def check_sim(train, sim):\n",
    "    categorical = []\n",
    "    for k, i in enumerate(sim[:2]):\n",
    "        if train[k] == i or i =='*':\n",
    "            categorical.append(True)\n",
    "        else:\n",
    "            categorical.append(False)\n",
    "            \n",
    "    numerical = []\n",
    "    for k, i in enumerate(sim[2:]):\n",
    "        if train[k + 2] <= i[1] and train[k + 2] >= i[0]:\n",
    "            numerical.append(True)\n",
    "        else:\n",
    "            numerical.append(False)\n",
    "    return np.all(categorical + numerical)\n",
    "    \n",
    "def calc_extsim(x_train, sim):\n",
    "    idxs = []\n",
    "    for i in range(len(x_train)):\n",
    "        idxs.append(check_sim(x_train.iloc[i], sim))\n",
    "    return idxs\n",
    "\n",
    "def predict(x_train, y_train, x_test, y_test):\n",
    "    preds = []\n",
    "    for i in range(len(x_test)):\n",
    "        for j in range(len(x_train)):\n",
    "            simm = calc_sim(x_test.iloc[i], x_train.iloc[j])\n",
    "            targets = y_train.iloc[calc_extsim(x_train, simm)]\n",
    "            if np.all(targets == 'F') and len(targets.index.values) != 0:\n",
    "                print(f'IntSec for test object {i}:', simm)\n",
    "                print('Extension:', targets.index.values)\n",
    "                preds.append('F')\n",
    "                break\n",
    "            elif np.all(targets == 'T') and len(targets.index.values) != 0:\n",
    "                print(f'IntSec for test object {i}:', simm)\n",
    "                print('Extension:', targets.index.values)\n",
    "                preds.append('T')\n",
    "                break\n",
    "            else:\n",
    "                print('Trying', simm)\n",
    "                if j == len(x_train)-1:\n",
    "                    preds.append('Undetermined')\n",
    "                    break\n",
    "    return preds, np.round(np.mean(preds == y_test), 2)"
   ]
  },
  {
   "cell_type": "markdown",
   "id": "b40dfcd6-bf41-4287-8ba0-e9663112fd28",
   "metadata": {
    "tags": []
   },
   "source": [
    "## №1"
   ]
  },
  {
   "cell_type": "code",
   "execution_count": 6,
   "id": "414fa3e8-791e-467e-901f-5e21928c81d4",
   "metadata": {},
   "outputs": [],
   "source": [
    "x_train, x_test, y_train, y_test = split_last_3(df1)"
   ]
  },
  {
   "cell_type": "code",
   "execution_count": 7,
   "id": "1d1efc02-7af0-48a2-8f5f-3d68e27420ea",
   "metadata": {},
   "outputs": [
    {
     "name": "stdout",
     "output_type": "stream",
     "text": [
      "IntSec for test object 0: ['SK', 'F', (99, 206), (1.9, 2.8), (1.4, 2.2), (1.8, 2.5), (2.7, 4.0)]\n",
      "Extension: [0 5]\n",
      "IntSec for test object 1: ['SK', 'F', (140, 206), (1.9, 2.6), (1.4, 2.3), (1.8, 3.3), (2.7, 3.4)]\n",
      "Extension: [0]\n",
      "IntSec for test object 2: ['SK', 'F', (206, 215), (1.9, 2.3), (1.4, 3.8), (1.8, 4.8), (2.3, 2.7)]\n",
      "Extension: [0]\n",
      "\n",
      "Accrucay: 0.0 \n",
      "True values: ['T' 'T' 'T'] \n",
      "Predictions: ['F', 'F', 'F']\n"
     ]
    }
   ],
   "source": [
    "preds, acc = predict(x_train, y_train, x_test, y_test)\n",
    "\n",
    "print('\\nAccrucay:', acc,'\\nTrue values:', y_test.values, '\\nPredictions:', preds)"
   ]
  },
  {
   "cell_type": "markdown",
   "id": "b1107f16-cf38-4873-9eae-8a8e9f39fe1e",
   "metadata": {},
   "source": [
    "## №2"
   ]
  },
  {
   "cell_type": "code",
   "execution_count": 8,
   "id": "203cea14-8330-47b9-b937-f106f52a3e80",
   "metadata": {},
   "outputs": [],
   "source": [
    "x_train, x_test, y_train, y_test = split_last_3(df2)"
   ]
  },
  {
   "cell_type": "code",
   "execution_count": 9,
   "id": "c42136ce-c9f4-4b2d-a5d0-70e30239ed4f",
   "metadata": {},
   "outputs": [
    {
     "name": "stdout",
     "output_type": "stream",
     "text": [
      "IntSec for test object 0: ['SK', 'F', (99, 149), (1.9, 2.8), (2.2, 2.5), (2.5, 4.0), (3.8, 4.0)]\n",
      "Extension: [0]\n",
      "IntSec for test object 1: ['SK', 'F', (140, 149), (1.9, 2.6), (2.3, 2.5), (3.3, 4.0), (3.4, 3.8)]\n",
      "Extension: [0]\n",
      "IntSec for test object 2: ['SK', 'F', (149, 215), (1.9, 2.3), (2.5, 3.8), (4.0, 4.8), (2.3, 3.8)]\n",
      "Extension: [0]\n",
      "\n",
      "Accrucay: 1.0 \n",
      "True values: ['T' 'T' 'T'] \n",
      "Predictions: ['T', 'T', 'T']\n"
     ]
    }
   ],
   "source": [
    "preds, acc = predict(x_train, y_train, x_test, y_test)\n",
    "\n",
    "print('\\nAccrucay:', acc,'\\nTrue values:', y_test.values, '\\nPredictions:', preds)"
   ]
  },
  {
   "cell_type": "markdown",
   "id": "06fdfda9-8291-4f42-a1b6-76956aabb11a",
   "metadata": {},
   "source": [
    "## №3"
   ]
  },
  {
   "cell_type": "code",
   "execution_count": 10,
   "id": "d03a15f7-cb1c-4064-b0b9-33b86e80f757",
   "metadata": {},
   "outputs": [],
   "source": [
    "X, y = df2.drop(columns=['Accegrade', 'No']), df2['Accegrade']"
   ]
  },
  {
   "cell_type": "code",
   "execution_count": 11,
   "id": "a7edffe2-e7d2-4e61-beef-4dc3f7ec10ed",
   "metadata": {},
   "outputs": [
    {
     "name": "stdout",
     "output_type": "stream",
     "text": [
      "Fold 1\n",
      "IntSec for test object 0: ['SK', 'F', (149, 213), (1.7, 1.9), (2.0, 2.5), (2.4, 4.0), (3.4, 3.8)]\n",
      "Extension: [3]\n",
      "IntSec for test object 1: ['*', '*', (213, 520), (1.7, 2.1), (0.8, 2.0), (2.4, 3.8), (2.3, 3.4)]\n",
      "Extension: [3]\n",
      "Trying ['*', '*', (213, 389), (1.7, 2.0), (2.0, 2.2), (2.4, 3.3), (3.4, 4.3)]\n",
      "Trying ['*', '*', (389, 598), (1.6, 2.0), (2.2, 2.4), (3.3, 7.0), (2.8, 4.3)]\n",
      "Trying ['*', '*', (109, 389), (2.0, 2.0), (1.9, 2.2), (2.4, 3.3), (3.7, 4.3)]\n",
      "Trying ['SRK', '*', (325, 389), (2.0, 2.0), (2.1, 2.2), (3.2, 3.3), (2.8, 4.3)]\n",
      "IntSec for test object 2: ['*', '*', (389, 498), (1.5, 2.0), (2.2, 3.3), (3.3, 3.5), (2.0, 4.3)]\n",
      "Extension: [ 7 10]\n",
      "\n",
      "Pedicted vs True\n",
      "['F', 'F', 'T']\n",
      "['T' 'F' 'T']\n",
      "Accuracy: 0.67\n",
      "\n",
      "------------\n",
      "\n",
      "Fold 2\n",
      "IntSec for test object 0: ['SK', 'F', (149, 213), (1.7, 1.9), (2.0, 2.5), (2.4, 4.0), (3.4, 3.8)]\n",
      "Extension: [0]\n",
      "IntSec for test object 1: ['*', '*', (149, 598), (1.6, 1.9), (2.4, 2.5), (4.0, 7.0), (2.8, 3.8)]\n",
      "Extension: [0]\n",
      "IntSec for test object 2: ['SK', 'F', (109, 149), (1.9, 2.0), (1.9, 2.5), (2.4, 4.0), (3.7, 3.8)]\n",
      "Extension: [0]\n",
      "\n",
      "Pedicted vs True\n",
      "['T', 'T', 'T']\n",
      "['F' 'F' 'F']\n",
      "Accuracy: 0.0\n",
      "\n",
      "------------\n",
      "\n",
      "Fold 3\n",
      "IntSec for test object 0: ['*', '*', (149, 325), (1.9, 2.0), (2.1, 2.5), (3.2, 4.0), (2.8, 3.8)]\n",
      "Extension: [0]\n",
      "IntSec for test object 1: ['*', '*', (149, 498), (1.5, 1.9), (2.5, 3.3), (3.5, 4.0), (2.0, 3.8)]\n",
      "Extension: [0]\n",
      "IntSec for test object 2: ['*', '*', (149, 396), (1.9, 2.8), (2.1, 2.5), (3.1, 4.0), (2.5, 3.8)]\n",
      "Extension: [ 0 11]\n",
      "\n",
      "Pedicted vs True\n",
      "['T', 'T', 'T']\n",
      "['F' 'T' 'T']\n",
      "Accuracy: 0.67\n",
      "\n",
      "------------\n",
      "\n",
      "Fold 4\n",
      "IntSec for test object 0: ['SK', 'F', (149, 160), (1.7, 1.9), (1.9, 2.5), (1.6, 4.0), (3.7, 3.8)]\n",
      "Extension: [0]\n",
      "IntSec for test object 1: ['*', '*', (149, 389), (1.9, 2.0), (2.2, 2.5), (3.3, 4.0), (3.8, 4.3)]\n",
      "Extension: [0 2]\n",
      "IntSec for test object 2: ['*', 'F', (149, 298), (1.9, 2.5), (2.3, 2.5), (3.3, 4.0), (2.8, 3.8)]\n",
      "Extension: [0]\n",
      "\n",
      "Pedicted vs True\n",
      "['T', 'T', 'T']\n",
      "['F' 'T' 'T']\n",
      "Accuracy: 0.67\n",
      "\n",
      "------------\n",
      "\n",
      "Fold 5\n",
      "IntSec for test object 0: ['SK', 'F', (149, 206), (1.9, 1.9), (1.4, 2.5), (1.8, 4.0), (2.7, 3.8)]\n",
      "Extension: [0]\n",
      "IntSec for test object 1: ['*', '*', (149, 684), (1.7, 1.9), (2.5, 3.3), (4.0, 4.4), (2.2, 3.8)]\n",
      "Extension: [0]\n",
      "IntSec for test object 2: ['SK', 'F', (99, 149), (1.9, 2.8), (2.2, 2.5), (2.5, 4.0), (3.8, 4.0)]\n",
      "Extension: [0]\n",
      "\n",
      "Pedicted vs True\n",
      "['T', 'T', 'T']\n",
      "['F' 'T' 'T']\n",
      "Accuracy: 0.67\n",
      "\n",
      "------------\n",
      "\n",
      "Mean accuracy: 0.536\n"
     ]
    }
   ],
   "source": [
    "accs = []\n",
    "test_idx = np.arange(0, 3)\n",
    "for i in range(0, 5):\n",
    "    print(f'Fold {i+1}')\n",
    "    test_idx += 3 * (i != 0)\n",
    "    train_idx = ~X.index.isin(test_idx)\n",
    "    x_train, x_test, y_train, y_test = X.iloc[train_idx], X.iloc[test_idx], y.iloc[train_idx], y.iloc[test_idx]\n",
    "    p, a = predict(x_train, y_train, x_test, y_test)\n",
    "    print('\\nPedicted vs True')\n",
    "    print(p)\n",
    "    print(y_test.values)\n",
    "    print('Accuracy:', a)\n",
    "    print('\\n------------\\n')\n",
    "    accs.append(a)\n",
    "\n",
    "print('Mean accuracy:', np.mean(accs))"
   ]
  },
  {
   "cell_type": "markdown",
   "id": "0687f949-11ba-4790-baef-2cdc09ecd4e9",
   "metadata": {},
   "source": [
    "## №4"
   ]
  },
  {
   "cell_type": "code",
   "execution_count": 12,
   "id": "bcda852e-80de-4d9a-a777-290c309cf28b",
   "metadata": {},
   "outputs": [],
   "source": [
    "def calc_sim(test, train):\n",
    "    sim = []\n",
    "    for i, j in enumerate(test):\n",
    "        if i < 2:\n",
    "            if j == train[i]:\n",
    "                sim.append(j)\n",
    "            else:\n",
    "                sim.append('*')\n",
    "        else:\n",
    "            sim.append((min(j, train[i]), np.inf))\n",
    "    return sim"
   ]
  },
  {
   "cell_type": "code",
   "execution_count": 13,
   "id": "ed0b06b0-9d3b-4432-aeae-965206461bec",
   "metadata": {},
   "outputs": [],
   "source": [
    "test_idx = [14]\n",
    "train_idx = ~X.index.isin(test_idx)"
   ]
  },
  {
   "cell_type": "code",
   "execution_count": 14,
   "id": "2d6a8dfe-5af0-42e9-b50d-88acb76ca219",
   "metadata": {},
   "outputs": [],
   "source": [
    "x_train, x_test, y_train, y_test = X.iloc[train_idx], X.iloc[test_idx], y.iloc[train_idx], y.iloc[test_idx]"
   ]
  },
  {
   "cell_type": "code",
   "execution_count": 15,
   "id": "84571bf9-e4a7-43cd-9ee7-b901a34829d5",
   "metadata": {},
   "outputs": [
    {
     "name": "stdout",
     "output_type": "stream",
     "text": [
      "IntSec for test object 0: ['SK', 'F', (99, inf), (1.9, inf), (2.2, inf), (2.5, inf), (3.8, inf)]\n",
      "Extension: [0]\n",
      "\n",
      "Accrucay: 1.0 \n",
      "True values: ['T'] \n",
      "Predictions: ['T']\n"
     ]
    }
   ],
   "source": [
    "preds, acc = predict(x_train, y_train, x_test, y_test)\n",
    "\n",
    "print('\\nAccrucay:', acc,'\\nTrue values:', y_test.values, '\\nPredictions:', preds)"
   ]
  },
  {
   "cell_type": "markdown",
   "id": "f620f350-82e6-4b03-a217-9dd94cf36828",
   "metadata": {},
   "source": [
    "## №5"
   ]
  },
  {
   "cell_type": "code",
   "execution_count": 16,
   "id": "2be7cbed-93c9-480d-b472-cf9344087e20",
   "metadata": {},
   "outputs": [],
   "source": [
    "def calc_sim(test, train):\n",
    "    sim = []\n",
    "    for i, j in enumerate(test):\n",
    "        if i < 2:\n",
    "            if j == train[i]:\n",
    "                sim.append(j)\n",
    "            else:\n",
    "                sim.append('*')\n",
    "        else:\n",
    "            sim.append((max(j, train[i]), np.inf))\n",
    "    return sim"
   ]
  },
  {
   "cell_type": "code",
   "execution_count": 17,
   "id": "d5cd7ffd-0a68-48d8-8894-379da7fee1a6",
   "metadata": {},
   "outputs": [
    {
     "name": "stdout",
     "output_type": "stream",
     "text": [
      "Trying ['SK', 'F', (149, inf), (2.8, inf), (2.5, inf), (4.0, inf), (4.0, inf)]\n",
      "Trying ['*', '*', (520, inf), (2.8, inf), (2.2, inf), (3.8, inf), (4.0, inf)]\n",
      "Trying ['*', '*', (389, inf), (2.8, inf), (2.2, inf), (3.3, inf), (4.3, inf)]\n",
      "Trying ['SK', 'F', (213, inf), (2.8, inf), (2.2, inf), (2.5, inf), (4.0, inf)]\n",
      "Trying ['*', '*', (598, inf), (2.8, inf), (2.4, inf), (7.0, inf), (4.0, inf)]\n",
      "Trying ['SK', 'F', (109, inf), (2.8, inf), (2.2, inf), (2.5, inf), (4.0, inf)]\n",
      "Trying ['*', '*', (325, inf), (2.8, inf), (2.2, inf), (3.2, inf), (4.0, inf)]\n",
      "Trying ['*', '*', (498, inf), (2.8, inf), (3.3, inf), (3.5, inf), (4.0, inf)]\n",
      "Trying ['*', '*', (396, inf), (2.8, inf), (2.2, inf), (3.1, inf), (4.0, inf)]\n",
      "Trying ['SK', 'F', (160, inf), (2.8, inf), (2.2, inf), (2.5, inf), (4.0, inf)]\n",
      "Trying ['*', '*', (389, inf), (2.8, inf), (2.2, inf), (3.3, inf), (4.3, inf)]\n",
      "Trying ['*', 'F', (298, inf), (2.8, inf), (2.3, inf), (3.3, inf), (4.0, inf)]\n",
      "Trying ['SK', 'F', (206, inf), (2.8, inf), (2.2, inf), (2.5, inf), (4.0, inf)]\n",
      "Trying ['*', '*', (684, inf), (2.8, inf), (3.3, inf), (4.4, inf), (4.0, inf)]\n",
      "Trying ['SK', 'F', (140, inf), (2.8, inf), (2.3, inf), (3.3, inf), (4.0, inf)]\n",
      "Trying ['SK', 'F', (215, inf), (2.8, inf), (3.8, inf), (4.8, inf), (4.0, inf)]\n",
      "\n",
      "Accrucay: 0.0 \n",
      "True values: ['T'] \n",
      "Predictions: ['Undetermined']\n"
     ]
    }
   ],
   "source": [
    "preds, acc = predict(x_train, y_train, x_test, y_test)\n",
    "\n",
    "print('\\nAccrucay:', acc,'\\nTrue values:', y_test.values, '\\nPredictions:', preds)"
   ]
  },
  {
   "cell_type": "code",
   "execution_count": null,
   "id": "571167a1-3fa5-49d0-8e15-8520f38fa9d0",
   "metadata": {},
   "outputs": [],
   "source": []
  }
 ],
 "metadata": {
  "kernelspec": {
   "display_name": "Python 3 (ipykernel)",
   "language": "python",
   "name": "python3"
  },
  "language_info": {
   "codemirror_mode": {
    "name": "ipython",
    "version": 3
   },
   "file_extension": ".py",
   "mimetype": "text/x-python",
   "name": "python",
   "nbconvert_exporter": "python",
   "pygments_lexer": "ipython3",
   "version": "3.8.18"
  }
 },
 "nbformat": 4,
 "nbformat_minor": 5
}
