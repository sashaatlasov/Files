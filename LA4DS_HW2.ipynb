{
 "cells": [
  {
   "cell_type": "code",
   "execution_count": 1,
   "id": "d19459de",
   "metadata": {},
   "outputs": [],
   "source": [
    "import numpy as np"
   ]
  },
  {
   "cell_type": "markdown",
   "id": "f74e8af8",
   "metadata": {
    "tags": []
   },
   "source": [
    "## Task 1"
   ]
  },
  {
   "cell_type": "code",
   "execution_count": 2,
   "id": "5349f012",
   "metadata": {},
   "outputs": [],
   "source": [
    "A = np.array([[-24, -56, 51, -78], [-75, 26, 12, 60], [6, 2, -78, -48]])"
   ]
  },
  {
   "cell_type": "code",
   "execution_count": 3,
   "id": "6de45df9-f943-4e59-bd6a-9dff070f7c6a",
   "metadata": {},
   "outputs": [
    {
     "data": {
      "text/plain": [
       "array([[ 6237,  -594, -2592, -2916],\n",
       "       [ -594,  3816, -2700,  5832],\n",
       "       [-2592, -2700,  8829,   486],\n",
       "       [-2916,  5832,   486, 11988]])"
      ]
     },
     "execution_count": 3,
     "metadata": {},
     "output_type": "execute_result"
    }
   ],
   "source": [
    "AtA = A.T @ A\n",
    "AtA"
   ]
  },
  {
   "cell_type": "markdown",
   "id": "c6612ea5-6d37-4b93-afa9-663a0dc7549c",
   "metadata": {},
   "source": [
    "Singular values"
   ]
  },
  {
   "cell_type": "code",
   "execution_count": 4,
   "id": "ab69bf16-afe2-410f-97d8-ee0dd7ff28d1",
   "metadata": {},
   "outputs": [
    {
     "data": {
      "text/plain": [
       "array([126., 105.,  63.,  -0.])"
      ]
     },
     "execution_count": 4,
     "metadata": {},
     "output_type": "execute_result"
    }
   ],
   "source": [
    "sigmas = np.sqrt(np.round(np.linalg.eigvals(AtA), 2))\n",
    "sigmas"
   ]
  },
  {
   "cell_type": "markdown",
   "id": "7ecfd638-ead9-4464-9c97-f53ddf342a50",
   "metadata": {},
   "source": [
    "Normed eigenvectors"
   ]
  },
  {
   "cell_type": "code",
   "execution_count": 5,
   "id": "1729df74-a00e-45f0-b800-ba00e0c23bea",
   "metadata": {
    "tags": []
   },
   "outputs": [
    {
     "data": {
      "text/plain": [
       "array([[-0.28571429,  0.42857143,  0.85714286, -0.        ],\n",
       "       [ 0.42857143,  0.28571429,  0.        , -0.85714286],\n",
       "       [ 0.        , -0.85714286,  0.42857143, -0.28571429],\n",
       "       [ 0.85714286, -0.        ,  0.28571429,  0.42857143]])"
      ]
     },
     "execution_count": 5,
     "metadata": {},
     "output_type": "execute_result"
    }
   ],
   "source": [
    "eigvecs = np.linalg.eig(AtA)[1]\n",
    "np.round(eigvecs , 10)"
   ]
  },
  {
   "cell_type": "code",
   "execution_count": 6,
   "id": "d5d6296b",
   "metadata": {},
   "outputs": [],
   "source": [
    "V = eigvecs\n",
    "S = np.array([[126, 0, 0, 0], [0, 105, 0, 0], [0, 0, 63, 0]])\n",
    "U = A @ V @ np.linalg.pinv(S)"
   ]
  },
  {
   "cell_type": "code",
   "execution_count": 7,
   "id": "e6fd744e",
   "metadata": {},
   "outputs": [
    {
     "data": {
      "text/plain": [
       "array([[-24., -56.,  51., -78.],\n",
       "       [-75.,  26.,  12.,  60.],\n",
       "       [  6.,   2., -78., -48.]])"
      ]
     },
     "execution_count": 7,
     "metadata": {},
     "output_type": "execute_result"
    }
   ],
   "source": [
    "U @ S @ V.T"
   ]
  },
  {
   "cell_type": "markdown",
   "id": "3a39abea-5246-40f2-bd6d-680aa8fd07e8",
   "metadata": {},
   "source": [
    "Truncated matrices "
   ]
  },
  {
   "cell_type": "code",
   "execution_count": 8,
   "id": "9d7426a4-498c-4982-976e-7b960cb6dc27",
   "metadata": {},
   "outputs": [],
   "source": [
    "U_2 = U[:, :2]\n",
    "V_2 = V[:, :2]\n",
    "S_2 = S[:2, :2]"
   ]
  },
  {
   "cell_type": "markdown",
   "id": "6cc85686-fc2e-4014-8054-d238bdee3529",
   "metadata": {},
   "source": [
    "Approximation"
   ]
  },
  {
   "cell_type": "code",
   "execution_count": 9,
   "id": "b96785df-46a9-421d-9d78-b5d2eec38fbc",
   "metadata": {},
   "outputs": [
    {
     "data": {
      "text/plain": [
       "array([[ -6., -56.,  60., -72.],\n",
       "       [-39.,  26.,  30.,  72.],\n",
       "       [ 42.,   2., -60., -36.]])"
      ]
     },
     "execution_count": 9,
     "metadata": {},
     "output_type": "execute_result"
    }
   ],
   "source": [
    "A_2 = U_2 @ S_2 @ V_2.T\n",
    "A_2"
   ]
  },
  {
   "cell_type": "markdown",
   "id": "483af648-db89-4734-bf3f-0c2ccf6fe374",
   "metadata": {},
   "source": [
    "$\\|A-A_2\\|_2$"
   ]
  },
  {
   "cell_type": "code",
   "execution_count": 10,
   "id": "b314c90c-e8ad-4dd8-895a-4abdaf32e545",
   "metadata": {},
   "outputs": [
    {
     "data": {
      "text/plain": [
       "63.0"
      ]
     },
     "execution_count": 10,
     "metadata": {},
     "output_type": "execute_result"
    }
   ],
   "source": [
    "D = A - A_2\n",
    "ev = np.linalg.eig(D.T @ D)[0]\n",
    "\n",
    "np.sqrt(np.max(ev))"
   ]
  },
  {
   "cell_type": "markdown",
   "id": "2d51e582",
   "metadata": {
    "tags": []
   },
   "source": [
    "## Task 2"
   ]
  },
  {
   "cell_type": "code",
   "execution_count": 11,
   "id": "ed2d8af8",
   "metadata": {
    "tags": []
   },
   "outputs": [],
   "source": [
    "A = np.array([[-3.1, 0.19], [-4.09, -7.04]])\n",
    "b = np.array([-2.97, -10.97])\n",
    "\n",
    "A_hat = np.array([[-3, 0], [-4, -7]])\n",
    "A_hat_inv = np.linalg.inv(A_hat)\n",
    "b_hat = np.array([-3, -11])\n",
    "\n",
    "delta_A = A_hat - A\n",
    "delta_b = b_hat - b"
   ]
  },
  {
   "cell_type": "code",
   "execution_count": 12,
   "id": "b64c2749-636a-4c32-8057-516b4f728893",
   "metadata": {},
   "outputs": [
    {
     "data": {
      "text/plain": [
       "array([[25, 28],\n",
       "       [28, 49]])"
      ]
     },
     "execution_count": 12,
     "metadata": {},
     "output_type": "execute_result"
    }
   ],
   "source": [
    "A_hat.T @ A_hat"
   ]
  },
  {
   "cell_type": "code",
   "execution_count": 13,
   "id": "2e881506-3f3c-4dbf-ac9b-3fbff10d9176",
   "metadata": {},
   "outputs": [
    {
     "data": {
      "text/plain": [
       "array([[ 0.14739229, -0.02721088],\n",
       "       [-0.02721088,  0.02040816]])"
      ]
     },
     "execution_count": 13,
     "metadata": {},
     "output_type": "execute_result"
    }
   ],
   "source": [
    "A_hat_inv.T @ A_hat_inv"
   ]
  },
  {
   "cell_type": "code",
   "execution_count": 14,
   "id": "db37c405-bfd7-4ade-936e-9afcebcc4c39",
   "metadata": {},
   "outputs": [
    {
     "data": {
      "text/plain": [
       "array([[ 0.0181, -0.0154],\n",
       "       [-0.0154,  0.0377]])"
      ]
     },
     "execution_count": 14,
     "metadata": {},
     "output_type": "execute_result"
    }
   ],
   "source": [
    "delta_A.T @ delta_A"
   ]
  },
  {
   "cell_type": "markdown",
   "id": "bb1a7237",
   "metadata": {
    "tags": []
   },
   "source": [
    "## Task 3"
   ]
  },
  {
   "cell_type": "code",
   "execution_count": 15,
   "id": "e43f4083",
   "metadata": {},
   "outputs": [],
   "source": [
    "A_hat = np.array([[16, -9], [-2, -2]])\n",
    "A_hat_inv = np.linalg.inv(A_hat)\n",
    "b_hat = np.array([1, 4])\n",
    "\n",
    "delta_A = np.array([[0.1, 0.15], [0, 0.05]])\n",
    "delta_b = np.array([0.05,0.05])"
   ]
  },
  {
   "cell_type": "markdown",
   "id": "6ec7af33-d3ce-4085-8f96-aa3ed684d32a",
   "metadata": {},
   "source": [
    "Approximate solution"
   ]
  },
  {
   "cell_type": "code",
   "execution_count": 16,
   "id": "4395b00b-7b76-4d61-b4bc-2ab389e9ab71",
   "metadata": {},
   "outputs": [
    {
     "data": {
      "text/plain": [
       "array([-0.68, -1.32])"
      ]
     },
     "execution_count": 16,
     "metadata": {},
     "output_type": "execute_result"
    }
   ],
   "source": [
    "A_hat_inv @ b_hat"
   ]
  },
  {
   "cell_type": "code",
   "execution_count": 17,
   "id": "a79de9ef-5900-48ec-bae3-3b46e4a5e8b8",
   "metadata": {},
   "outputs": [
    {
     "data": {
      "text/plain": [
       "array([[ 260, -140],\n",
       "       [-140,   85]])"
      ]
     },
     "execution_count": 17,
     "metadata": {},
     "output_type": "execute_result"
    }
   ],
   "source": [
    "A_hat.T @ A_hat"
   ]
  },
  {
   "cell_type": "code",
   "execution_count": 18,
   "id": "2d16adef-4a07-45be-b9fa-340a708287d7",
   "metadata": {},
   "outputs": [
    {
     "data": {
      "text/plain": [
       "array([[0.0032, 0.0056],\n",
       "       [0.0056, 0.1348]])"
      ]
     },
     "execution_count": 18,
     "metadata": {},
     "output_type": "execute_result"
    }
   ],
   "source": [
    "A_hat_inv.T @ A_hat_inv"
   ]
  },
  {
   "cell_type": "code",
   "execution_count": 19,
   "id": "97c5bab4-5c92-4359-b8ff-3857615805ff",
   "metadata": {},
   "outputs": [
    {
     "data": {
      "text/plain": [
       "array([[0.01 , 0.015],\n",
       "       [0.015, 0.025]])"
      ]
     },
     "execution_count": 19,
     "metadata": {},
     "output_type": "execute_result"
    }
   ],
   "source": [
    "delta_A.T @ delta_A"
   ]
  },
  {
   "cell_type": "markdown",
   "id": "32d78c35",
   "metadata": {
    "tags": []
   },
   "source": [
    "## Task 4"
   ]
  },
  {
   "cell_type": "code",
   "execution_count": 20,
   "id": "94c85c3b",
   "metadata": {},
   "outputs": [],
   "source": [
    "A_hat = np.array([[-5, -9], [2, -2]])"
   ]
  },
  {
   "cell_type": "code",
   "execution_count": 21,
   "id": "e6eace78",
   "metadata": {},
   "outputs": [
    {
     "data": {
      "text/plain": [
       "array([[-0.07142857,  0.32142857],\n",
       "       [-0.07142857, -0.17857143]])"
      ]
     },
     "execution_count": 21,
     "metadata": {},
     "output_type": "execute_result"
    }
   ],
   "source": [
    "A_hat_inv = np.linalg.inv(A_hat)\n",
    "A_hat_inv "
   ]
  },
  {
   "cell_type": "markdown",
   "id": "97700d51",
   "metadata": {
    "tags": []
   },
   "source": [
    "## Task 5"
   ]
  },
  {
   "cell_type": "code",
   "execution_count": 22,
   "id": "438d5850",
   "metadata": {},
   "outputs": [],
   "source": [
    "A = np.array([[21, 1, 1], [9, 25, 7], [3, 5, 21]])\n",
    "b = np.array([3, 6, 6])\n",
    "\n",
    "I = np.eye(3)\n",
    "C = np.diag(np.diag(A))"
   ]
  },
  {
   "cell_type": "code",
   "execution_count": 23,
   "id": "0675a285-7899-40a5-abef-501ad74fb3ad",
   "metadata": {},
   "outputs": [],
   "source": [
    "P = (I - np.linalg.inv(C) @ A)\n",
    "b_ = np.linalg.inv(C) @ b"
   ]
  },
  {
   "cell_type": "code",
   "execution_count": 24,
   "id": "77a0e762-5475-42d6-93cf-348db535dccb",
   "metadata": {},
   "outputs": [
    {
     "data": {
      "text/plain": [
       "array([[ 0.  , -0.05, -0.05],\n",
       "       [-0.36,  0.  , -0.28],\n",
       "       [-0.14, -0.24,  0.  ]])"
      ]
     },
     "execution_count": 24,
     "metadata": {},
     "output_type": "execute_result"
    }
   ],
   "source": [
    "np.round(P, 2)"
   ]
  },
  {
   "cell_type": "code",
   "execution_count": 25,
   "id": "2d2d5466-397d-48b6-bd78-920d6189ef02",
   "metadata": {},
   "outputs": [
    {
     "data": {
      "text/plain": [
       "7.129888712186601"
      ]
     },
     "execution_count": 25,
     "metadata": {},
     "output_type": "execute_result"
    }
   ],
   "source": [
    "p_norm = np.linalg.norm(P, 1)\n",
    "b_norm = np.linalg.norm(b_, 1)\n",
    "eps = 0.01\n",
    "\n",
    "k = np.emath.logn(p_norm, (1 - p_norm) * eps / b_norm)\n",
    "k"
   ]
  },
  {
   "cell_type": "code",
   "execution_count": 26,
   "id": "f8443389-4419-4a0a-83c5-667ccd5419d9",
   "metadata": {},
   "outputs": [
    {
     "name": "stdout",
     "output_type": "stream",
     "text": [
      "x_1 [0.14285714 0.24       0.28571429]\n",
      "x_2 [0.11782313 0.10857143 0.20816327]\n",
      "x_3 [0.12777454 0.13929796 0.24303207]\n",
      "x_4 [0.12465095 0.12595219 0.2342946 ]\n",
      "x_5 [0.12570253 0.12952317 0.23791839]\n",
      "x_6 [0.12535993 0.12812994 0.23691793]\n",
      "x_7 [0.12547391 0.12853341 0.2372986 ]\n",
      "x_8 [0.12543657 0.12838578 0.23718625]\n"
     ]
    }
   ],
   "source": [
    "x_0 = np.array([0, 0, 0])\n",
    "\n",
    "x = x_0\n",
    "\n",
    "for i in range(8):\n",
    "    x = P @ x + b_\n",
    "    print(f'x_{i+1}', x)"
   ]
  },
  {
   "cell_type": "markdown",
   "id": "20aab778-f9d1-49c6-acc3-49b89a79d3ec",
   "metadata": {},
   "source": [
    "## Task 6"
   ]
  },
  {
   "cell_type": "code",
   "execution_count": 27,
   "id": "5c1b63c7-72ac-4513-ab47-ad19fe1f2a4d",
   "metadata": {},
   "outputs": [],
   "source": [
    "A = np.array([[1, 1, 0, 0, 0], [1, 0, 0, 0, 1], [1, 1, 1, 1, 0], [1, 1, 0, 1, 1], [0, 0, 0, 1, 1]])\n",
    "\n",
    "beta = 0.15\n",
    "P = np.array([[1/4, 1/3, 0, 0, 0], [1/4, 0, 0, 0, 1/3], [1/4, 1/3, 1, 1/3, 0], \n",
    "              [1/4, 1/3, 0, 1/3, 1/3], [0, 0, 0, 1/3, 1/3]])\n",
    "M = np.ones(shape=(5, 5)) / 5\n",
    "\n",
    "Q = (1 - beta) * P + beta * M"
   ]
  },
  {
   "cell_type": "code",
   "execution_count": 28,
   "id": "8cc1ce6a-571d-4e00-951c-95c3b144c3b3",
   "metadata": {},
   "outputs": [
    {
     "data": {
      "text/plain": [
       "array([[0.2425    , 0.31333333, 0.03      , 0.03      , 0.03      ],\n",
       "       [0.2425    , 0.03      , 0.03      , 0.03      , 0.31333333],\n",
       "       [0.2425    , 0.31333333, 0.88      , 0.31333333, 0.03      ],\n",
       "       [0.2425    , 0.31333333, 0.03      , 0.31333333, 0.31333333],\n",
       "       [0.03      , 0.03      , 0.03      , 0.31333333, 0.31333333]])"
      ]
     },
     "execution_count": 28,
     "metadata": {},
     "output_type": "execute_result"
    }
   ],
   "source": [
    "Q"
   ]
  },
  {
   "cell_type": "code",
   "execution_count": 29,
   "id": "54fe7a45-a992-4194-a97e-58424e4f672f",
   "metadata": {},
   "outputs": [
    {
     "name": "stdout",
     "output_type": "stream",
     "text": [
      "Iteration 1: x = [0.129 0.129 0.356 0.243 0.143]\n",
      "Iteration 2: x = [0.094 0.098 0.465 0.203 0.139]\n",
      "Iteration 3: x = [0.078 0.089 0.531 0.175 0.127]\n",
      "Iteration 4: x = [0.072 0.083 0.573 0.157 0.116]\n",
      "Iteration 5: x = [0.069 0.078 0.6   0.146 0.107]\n",
      "Iteration 6: x = [0.067 0.075 0.618 0.138 0.102]\n",
      "Iteration 7: x = [0.065 0.073 0.63  0.133 0.098]\n",
      "Iteration 8: x = [0.065 0.072 0.638 0.13  0.096]\n",
      "Iteration 9: x = [0.064 0.071 0.643 0.128 0.094]\n",
      "Iteration 10: x = [0.064 0.07  0.647 0.127 0.093]\n",
      "Iteration 11: x = [0.063 0.07  0.649 0.126 0.092]\n",
      "Iteration 12: x = [0.063 0.07  0.65  0.125 0.092]\n",
      "Iteration 13: x = [0.063 0.069 0.651 0.125 0.091]\n",
      "Iteration 14: x = [0.063 0.069 0.652 0.124 0.091]\n",
      "Iteration 15: x = [0.063 0.069 0.653 0.124 0.091]\n",
      "Iteration 16: x = [0.063 0.069 0.653 0.124 0.091]\n",
      "Iteration 17: x = [0.063 0.069 0.653 0.124 0.091]\n",
      "Iteration 18: x = [0.063 0.069 0.653 0.124 0.091]\n",
      "Iteration 19: x = [0.063 0.069 0.653 0.124 0.091]\n",
      "Iteration 20: x = [0.063 0.069 0.653 0.124 0.091]\n",
      "Iteration 21: x = [0.063 0.069 0.653 0.124 0.091]\n",
      "Iteration 22: x = [0.063 0.069 0.653 0.124 0.091]\n",
      "Iteration 23: x = [0.063 0.069 0.653 0.124 0.091]\n",
      "Iteration 24: x = [0.063 0.069 0.653 0.124 0.091]\n",
      "Iteration 25: x = [0.063 0.069 0.653 0.124 0.091]\n",
      "Iteration 26: x = [0.063 0.069 0.653 0.124 0.091]\n",
      "Iteration 27: x = [0.063 0.069 0.653 0.124 0.091]\n",
      "Iteration 28: x = [0.063 0.069 0.653 0.124 0.091]\n",
      "Iteration 29: x = [0.063 0.069 0.653 0.124 0.091]\n",
      "Iteration 30: x = [0.063 0.069 0.653 0.124 0.091]\n",
      "Iteration 31: x = [0.063 0.069 0.653 0.124 0.091]\n",
      "Iteration 32: x = [0.063 0.069 0.653 0.124 0.091]\n",
      "Iteration 33: x = [0.063 0.069 0.653 0.124 0.091]\n",
      "Iteration 34: x = [0.063 0.069 0.653 0.124 0.091]\n",
      "Iteration 35: x = [0.063 0.069 0.653 0.124 0.091]\n",
      "Iteration 36: x = [0.063 0.069 0.653 0.124 0.091]\n",
      "Iteration 37: x = [0.063 0.069 0.653 0.124 0.091]\n",
      "Iteration 38: x = [0.063 0.069 0.653 0.124 0.091]\n",
      "Iteration 39: x = [0.063 0.069 0.653 0.124 0.091]\n",
      "Iteration 40: x = [0.063 0.069 0.653 0.124 0.091]\n",
      "Iteration 41: x = [0.063 0.069 0.653 0.124 0.091]\n",
      "Iteration 42: x = [0.063 0.069 0.653 0.124 0.091]\n",
      "Iteration 43: x = [0.063 0.069 0.653 0.124 0.091]\n",
      "Iteration 44: x = [0.063 0.069 0.653 0.124 0.091]\n",
      "Iteration 45: x = [0.063 0.069 0.653 0.124 0.091]\n",
      "Iteration 46: x = [0.063 0.069 0.653 0.124 0.091]\n",
      "Iteration 47: x = [0.063 0.069 0.653 0.124 0.091]\n",
      "Iteration 48: x = [0.063 0.069 0.653 0.124 0.091]\n",
      "Iteration 49: x = [0.063 0.069 0.653 0.124 0.091]\n",
      "Iteration 50: x = [0.063 0.069 0.653 0.124 0.091]\n"
     ]
    }
   ],
   "source": [
    "x_0 = np.array([1/5, 1/5, 1/5, 1/5, 1/5])\n",
    "x = x_0\n",
    "\n",
    "for i in range(50):\n",
    "    x = Q @ x\n",
    "    print(f'Iteration {i+1}: x =', np.round(x, 3))"
   ]
  },
  {
   "cell_type": "code",
   "execution_count": 30,
   "id": "42d66fce-4851-4956-ac84-0cf6f38de60d",
   "metadata": {},
   "outputs": [
    {
     "data": {
      "text/plain": [
       "array([0.063, 0.069, 0.653, 0.124, 0.091])"
      ]
     },
     "execution_count": 30,
     "metadata": {},
     "output_type": "execute_result"
    }
   ],
   "source": [
    "np.round(x, 3)"
   ]
  },
  {
   "cell_type": "code",
   "execution_count": 31,
   "id": "86b9e258-511a-4208-8097-b887f3856305",
   "metadata": {},
   "outputs": [
    {
     "data": {
      "text/plain": [
       "1.0000000000000007"
      ]
     },
     "execution_count": 31,
     "metadata": {},
     "output_type": "execute_result"
    }
   ],
   "source": [
    "np.linalg.norm(x, 1)"
   ]
  },
  {
   "cell_type": "markdown",
   "id": "de5eebd6-7b8d-4bdb-bcac-2d70e1d6bf67",
   "metadata": {},
   "source": [
    "## Task 7"
   ]
  },
  {
   "cell_type": "code",
   "execution_count": 32,
   "id": "bfc48d72-aca5-4888-8be6-bfa464d681cc",
   "metadata": {},
   "outputs": [
    {
     "data": {
      "text/plain": [
       "array([3., 1., 1.])"
      ]
     },
     "execution_count": 32,
     "metadata": {},
     "output_type": "execute_result"
    }
   ],
   "source": [
    "A = np.array([[0, -1, 0], [17, 6, -4], [5, -1, -1]])\n",
    "eigvals = np.linalg.eig(A)[0]\n",
    "eigvec3, eigvec1 = np.array([1, -3, 2]), np.array([1, -1, 3])\n",
    "np.round(eigvals, 2)"
   ]
  },
  {
   "cell_type": "code",
   "execution_count": 33,
   "id": "f98a836c-570a-46b8-935b-fa51451e7936",
   "metadata": {},
   "outputs": [
    {
     "data": {
      "text/plain": [
       "array([[3, 0, 0],\n",
       "       [0, 1, 1],\n",
       "       [0, 0, 1]])"
      ]
     },
     "execution_count": 33,
     "metadata": {},
     "output_type": "execute_result"
    }
   ],
   "source": [
    "J = np.array([[3, 0, 0], [0, 1, 1], [0, 0, 1]])\n",
    "J"
   ]
  },
  {
   "cell_type": "code",
   "execution_count": 34,
   "id": "a9f8d890-b41f-4ed5-9d72-2f5b23930dce",
   "metadata": {},
   "outputs": [
    {
     "data": {
      "text/plain": [
       "array([[-1., -1.,  0.],\n",
       "       [17.,  5., -4.],\n",
       "       [ 5., -1., -2.]])"
      ]
     },
     "execution_count": 34,
     "metadata": {},
     "output_type": "execute_result"
    }
   ],
   "source": [
    "B = A - np.eye(3)\n",
    "B"
   ]
  },
  {
   "cell_type": "code",
   "execution_count": 35,
   "id": "bee5f38c-f0e9-4105-9f39-45945df00934",
   "metadata": {},
   "outputs": [],
   "source": [
    "eigvec12 = np.array([1/3, -4/3, 0])"
   ]
  },
  {
   "cell_type": "code",
   "execution_count": 36,
   "id": "df34c5c9-70ab-4252-9d26-04f2b78ee44a",
   "metadata": {},
   "outputs": [
    {
     "data": {
      "text/plain": [
       "array([[-4.        , -1.        ,  1.        ],\n",
       "       [ 2.66666667,  0.66666667, -0.33333333],\n",
       "       [ 7.        ,  1.        , -2.        ]])"
      ]
     },
     "execution_count": 36,
     "metadata": {},
     "output_type": "execute_result"
    }
   ],
   "source": [
    "P = np.array([eigvec3, eigvec1, eigvec12]).T\n",
    "P1 = np.linalg.inv(P)\n",
    "P1"
   ]
  },
  {
   "cell_type": "code",
   "execution_count": 37,
   "id": "fd1bd44c-d3c4-4cfd-a426-7ecd900ce5cd",
   "metadata": {},
   "outputs": [
    {
     "data": {
      "text/plain": [
       "array([[54.59815003,  0.        ,  0.        ],\n",
       "       [ 0.        ,  7.3890561 ,  7.3890561 ],\n",
       "       [ 0.        ,  0.        ,  7.3890561 ]])"
      ]
     },
     "execution_count": 37,
     "metadata": {},
     "output_type": "execute_result"
    }
   ],
   "source": [
    "f_J = np.array([[np.exp(4), 0, 0], [0, np.exp(2), np.exp(2)], [0, 0, np.exp(2)]])\n",
    "f_J"
   ]
  },
  {
   "cell_type": "code",
   "execution_count": 38,
   "id": "6c5fa98e-bd27-4ef3-ac0c-a4375ff8bfed",
   "metadata": {},
   "outputs": [
    {
     "data": {
      "text/plain": [
       "array([[-129.72,  -39.82,   32.43],\n",
       "       [ 514.79,  141.63, -126.85],\n",
       "       [-222.5 ,  -72.25,   57.47]])"
      ]
     },
     "execution_count": 38,
     "metadata": {},
     "output_type": "execute_result"
    }
   ],
   "source": [
    "f_A = P @ f_J @ P1\n",
    "np.round(f_A, 2)"
   ]
  },
  {
   "cell_type": "code",
   "execution_count": null,
   "id": "14256382-b6a5-48ea-bc3d-03cf610a4bba",
   "metadata": {},
   "outputs": [],
   "source": []
  }
 ],
 "metadata": {
  "kernelspec": {
   "display_name": "Python 3 (ipykernel)",
   "language": "python",
   "name": "python3"
  },
  "language_info": {
   "codemirror_mode": {
    "name": "ipython",
    "version": 3
   },
   "file_extension": ".py",
   "mimetype": "text/x-python",
   "name": "python",
   "nbconvert_exporter": "python",
   "pygments_lexer": "ipython3",
   "version": "3.8.18"
  }
 },
 "nbformat": 4,
 "nbformat_minor": 5
}
