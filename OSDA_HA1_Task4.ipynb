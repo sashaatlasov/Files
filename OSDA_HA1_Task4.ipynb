{
 "cells": [
  {
   "cell_type": "code",
   "execution_count": 1,
   "id": "d258b7d0",
   "metadata": {},
   "outputs": [],
   "source": [
    "from itertools import combinations, product, chain\n",
    "from tqdm.auto import tqdm\n",
    "import numpy as np"
   ]
  },
  {
   "cell_type": "markdown",
   "id": "b7da8999",
   "metadata": {},
   "source": [
    "Utils "
   ]
  },
  {
   "cell_type": "code",
   "execution_count": 2,
   "id": "143f8f05",
   "metadata": {},
   "outputs": [],
   "source": [
    "def powerset(iterable):\n",
    "    '''\n",
    "    creates a powerset from a set\n",
    "    '''\n",
    "    s = list(iterable)\n",
    "    return list(chain.from_iterable(combinations(s, r) for r in range(len(s)+1)))\n",
    "\n",
    "def extract_elements(R):\n",
    "    '''\n",
    "    extracts elements from realtion R\n",
    "    '''\n",
    "    elements = set()\n",
    "    for k in R:\n",
    "        for l in k:\n",
    "            elements.update({l})\n",
    "    return list(elements)    \n",
    "\n",
    "def r(x, y, R):\n",
    "    '''\n",
    "    checks whether element x is in relation R with element y\n",
    "    '''\n",
    "    return (x, y) in R\n",
    "\n",
    "def is_transitive(R, domain): \n",
    "    '''\n",
    "    checks whether relation R is transitive\n",
    "    '''\n",
    "    for i in domain:\n",
    "        for j in domain:\n",
    "            for k in domain:\n",
    "                if (r(i, j, R) and r(j, k, R)) and (not r(i, k, R)):\n",
    "                    return False\n",
    "                \n",
    "    return True\n",
    "\n",
    "def is_asymmetric(R, domain):\n",
    "    '''\n",
    "    checks whether relation R is asymmetric\n",
    "    '''\n",
    "    for i in domain:\n",
    "        for j in domain:\n",
    "            if r(i, j, R) == r(j, i, R) and r(i, j, R) == True:\n",
    "                return False\n",
    "                \n",
    "    return True\n",
    "\n",
    "def is_antireflective(R, domain):\n",
    "    '''\n",
    "    checks whether relation R is antireflective\n",
    "    '''\n",
    "    for i in domain:\n",
    "        if r(i, i, R):\n",
    "            return False\n",
    "        \n",
    "    return True\n",
    "\n",
    "def is_antisymmetric(R, domain):\n",
    "    '''\n",
    "    checks whether relation R is antisymmetric\n",
    "    '''\n",
    "    for i in domain:\n",
    "        for j in domain:\n",
    "            if r(i, j, R) == r(j, i, R) and i != j and r(i, j, R) == True:\n",
    "                return False\n",
    "            \n",
    "    return True"
   ]
  },
  {
   "cell_type": "markdown",
   "id": "c6b484ba",
   "metadata": {},
   "source": [
    "Let's find all possible relations on set of size 5."
   ]
  },
  {
   "cell_type": "code",
   "execution_count": 3,
   "id": "69f3a51b",
   "metadata": {},
   "outputs": [],
   "source": [
    "n = [1, 2, 3, 4, 5] \n",
    "Rs = powerset(product(n, n))"
   ]
  },
  {
   "cell_type": "markdown",
   "id": "8cc6bb30",
   "metadata": {},
   "source": [
    "For each possible realtion we check neccessary properties and count those, which satisfy them."
   ]
  },
  {
   "cell_type": "code",
   "execution_count": 4,
   "id": "d66b8387",
   "metadata": {},
   "outputs": [
    {
     "data": {
      "application/vnd.jupyter.widget-view+json": {
       "model_id": "fb266f8b38e94c498bc3feed8a929373",
       "version_major": 2,
       "version_minor": 0
      },
      "text/plain": [
       "  0%|          | 0/33554432 [00:00<?, ?it/s]"
      ]
     },
     "metadata": {},
     "output_type": "display_data"
    }
   ],
   "source": [
    "cnt_a = 0\n",
    "\n",
    "for i in tqdm(Rs):\n",
    "    elements = extract_elements(i)\n",
    "    \n",
    "    if is_transitive(i, elements) and is_asymmetric(i, elements):\n",
    "        cnt_a += 1"
   ]
  },
  {
   "cell_type": "code",
   "execution_count": 5,
   "id": "45524e76",
   "metadata": {},
   "outputs": [
    {
     "name": "stdout",
     "output_type": "stream",
     "text": [
      "Number of asymmetric and transitive relations: 4231\n"
     ]
    }
   ],
   "source": [
    "print('Number of asymmetric and transitive relations:', cnt_a)"
   ]
  },
  {
   "cell_type": "code",
   "execution_count": 6,
   "id": "c39c95d6",
   "metadata": {},
   "outputs": [
    {
     "data": {
      "application/vnd.jupyter.widget-view+json": {
       "model_id": "030ec5220ed84dc2ac5bab43a8c7e059",
       "version_major": 2,
       "version_minor": 0
      },
      "text/plain": [
       "  0%|          | 0/33554432 [00:00<?, ?it/s]"
      ]
     },
     "metadata": {},
     "output_type": "display_data"
    }
   ],
   "source": [
    "cnt_b = 0\n",
    "\n",
    "for i in tqdm(Rs):\n",
    "    elements = extract_elements(i)\n",
    "    \n",
    "    if is_antireflective(i, elements) and is_antisymmetric(i, elements):\n",
    "        cnt_b += 1"
   ]
  },
  {
   "cell_type": "code",
   "execution_count": 7,
   "id": "80a66f05",
   "metadata": {},
   "outputs": [
    {
     "name": "stdout",
     "output_type": "stream",
     "text": [
      "Number of antisymmetric and antireflexive relations: 59049\n"
     ]
    }
   ],
   "source": [
    "print('Number of antisymmetric and antireflexive relations:', cnt_b)"
   ]
  },
  {
   "cell_type": "code",
   "execution_count": null,
   "id": "4fea232e",
   "metadata": {},
   "outputs": [],
   "source": []
  }
 ],
 "metadata": {
  "kernelspec": {
   "display_name": "Python 3 (ipykernel)",
   "language": "python",
   "name": "python3"
  },
  "language_info": {
   "codemirror_mode": {
    "name": "ipython",
    "version": 3
   },
   "file_extension": ".py",
   "mimetype": "text/x-python",
   "name": "python",
   "nbconvert_exporter": "python",
   "pygments_lexer": "ipython3",
   "version": "3.8.12"
  }
 },
 "nbformat": 4,
 "nbformat_minor": 5
}
